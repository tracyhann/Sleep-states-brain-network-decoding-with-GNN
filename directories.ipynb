{
  "cells": [
    {
      "cell_type": "markdown",
      "metadata": {
        "id": "view-in-github",
        "colab_type": "text"
      },
      "source": [
        "<a href=\"https://colab.research.google.com/github/tracyhann/Sleep-states-brain-network-decoding-with-GNN/blob/main/directories.ipynb\" target=\"_parent\"><img src=\"https://colab.research.google.com/assets/colab-badge.svg\" alt=\"Open In Colab\"/></a>"
      ]
    },
    {
      "cell_type": "code",
      "execution_count": 1,
      "metadata": {
        "colab": {
          "base_uri": "https://localhost:8080/"
        },
        "id": "OGmDglOU3KuD",
        "outputId": "95d4bfad-d237-47b3-94b2-346142ff104a"
      },
      "outputs": [
        {
          "output_type": "stream",
          "name": "stdout",
          "text": [
            "Python 3.10.12\n"
          ]
        }
      ],
      "source": [
        "!python --version"
      ]
    },
    {
      "cell_type": "markdown",
      "metadata": {
        "id": "i0y8ijQlvBEe"
      },
      "source": [
        "## Import libraries"
      ]
    },
    {
      "cell_type": "code",
      "execution_count": 2,
      "metadata": {
        "id": "_iVVRTsNtmwV"
      },
      "outputs": [],
      "source": [
        "from scipy.io import loadmat\n",
        "import pandas as pd"
      ]
    },
    {
      "cell_type": "code",
      "execution_count": 3,
      "metadata": {
        "id": "i1sXAD0juqfg"
      },
      "outputs": [],
      "source": [
        "from PIL import Image\n",
        "import numpy as np\n",
        "from matplotlib import pyplot as plt"
      ]
    },
    {
      "cell_type": "code",
      "execution_count": 4,
      "metadata": {
        "id": "mAyroXTNPPfy"
      },
      "outputs": [],
      "source": [
        "import os\n",
        "from pathlib import Path\n",
        "import sys"
      ]
    },
    {
      "cell_type": "code",
      "execution_count": 5,
      "metadata": {
        "id": "0LJTRFI3B_4T"
      },
      "outputs": [],
      "source": [
        "import matplotlib.image as mpimg"
      ]
    },
    {
      "cell_type": "code",
      "execution_count": 6,
      "metadata": {
        "id": "YXhRTnawY-By"
      },
      "outputs": [],
      "source": [
        "import cv2"
      ]
    },
    {
      "cell_type": "code",
      "execution_count": 7,
      "metadata": {
        "id": "RbPt98oNmh5S"
      },
      "outputs": [],
      "source": [
        "import numpy as np\n",
        "import pandas as pd\n",
        "import matplotlib.pyplot as plt\n",
        "from pathlib import Path\n",
        "from PIL import Image\n",
        "import matplotlib.image as mpimg\n",
        "from skimage import transform\n",
        "import random\n",
        "from random import sample\n",
        "from sklearn.preprocessing import LabelEncoder"
      ]
    },
    {
      "cell_type": "code",
      "execution_count": 8,
      "metadata": {
        "id": "ZQHheSo56uHn"
      },
      "outputs": [],
      "source": [
        "import re\n",
        "import pickle"
      ]
    },
    {
      "cell_type": "code",
      "execution_count": 9,
      "metadata": {
        "id": "UhQ3xfwl2kEn"
      },
      "outputs": [],
      "source": [
        "from datetime import date"
      ]
    },
    {
      "cell_type": "markdown",
      "metadata": {
        "id": "C-rdN3ebvOYz"
      },
      "source": [
        "# Connect to Google Drive and establish paths to directories\n",
        "* Capitalization indicates a static variable\n",
        "* Parcellation yields 394 ROIs\n",
        "* Atlas contains 16 networks + 1 none-group"
      ]
    },
    {
      "cell_type": "code",
      "execution_count": null,
      "metadata": {
        "colab": {
          "base_uri": "https://localhost:8080/"
        },
        "id": "q9ci6DDUvhOm",
        "outputId": "a3a1586a-6db4-4866-c6b2-ee53d118ba9f"
      },
      "outputs": [
        {
          "output_type": "stream",
          "name": "stdout",
          "text": [
            "Drive already mounted at /content/drive; to attempt to forcibly remount, call drive.mount(\"/content/drive\", force_remount=True).\n"
          ]
        }
      ],
      "source": [
        "from google.colab import drive\n",
        "drive.mount('/content/drive')"
      ]
    },
    {
      "cell_type": "code",
      "execution_count": null,
      "metadata": {
        "id": "0KbnCeT4Aw5B"
      },
      "outputs": [],
      "source": [
        "project_dir = '/content/drive/MyDrive/Non-overlap Sleep States Classification'"
      ]
    },
    {
      "cell_type": "code",
      "execution_count": null,
      "metadata": {
        "id": "cc8sWTP0Xv4V"
      },
      "outputs": [],
      "source": [
        "ROI_ATLAS_DIR = '/content/drive/MyDrive/Non-overlap Sleep States Classification/Data/IM_394.mat'"
      ]
    },
    {
      "cell_type": "code",
      "execution_count": null,
      "metadata": {
        "id": "cwJU5GBKOEol"
      },
      "outputs": [],
      "source": [
        "fMRI_DATASET_DIR = '/content/drive/MyDrive/Non-overlap Sleep States Classification/Data'"
      ]
    },
    {
      "cell_type": "code",
      "execution_count": null,
      "metadata": {
        "id": "-mKSXYlw5bDg"
      },
      "outputs": [],
      "source": [
        "roi_network_alignment_dir = '/content/drive/MyDrive/Non-overlap Sleep States Classification/roi_network_alignment.pkl'"
      ]
    },
    {
      "cell_type": "code",
      "execution_count": null,
      "metadata": {
        "id": "CGhUIp3S54xU"
      },
      "outputs": [],
      "source": [
        "network_df_dir = '/content/drive/MyDrive/Non-overlap Sleep States Classification/network_view.pkl'"
      ]
    },
    {
      "cell_type": "code",
      "execution_count": null,
      "metadata": {
        "id": "nHLdjY51992z"
      },
      "outputs": [],
      "source": [
        "fc_matrix_df_dir = '/content/drive/MyDrive/Non-overlap Sleep States Classification/fc_matrix_df.pkl'"
      ]
    },
    {
      "cell_type": "code",
      "execution_count": null,
      "metadata": {
        "id": "W17FqCwU57cm"
      },
      "outputs": [],
      "source": [
        "roi_network_alignment = pd.read_pickle(roi_network_alignment_dir)"
      ]
    },
    {
      "cell_type": "code",
      "execution_count": null,
      "metadata": {
        "id": "GkMizTR_71Sk"
      },
      "outputs": [],
      "source": [
        "network_df = pd.read_pickle(network_df_dir)"
      ]
    },
    {
      "cell_type": "code",
      "execution_count": null,
      "metadata": {
        "id": "WsRiZrBw-CRx"
      },
      "outputs": [],
      "source": [
        "fc_matrix_df = pd.read_pickle(fc_matrix_df_dir)"
      ]
    },
    {
      "cell_type": "code",
      "execution_count": null,
      "metadata": {
        "id": "NrTAORYT_37u"
      },
      "outputs": [],
      "source": [
        "fc_classes_dir = '/content/drive/MyDrive/Non-overlap Sleep States Classification/fc_classes.py'"
      ]
    },
    {
      "cell_type": "code",
      "execution_count": null,
      "metadata": {
        "id": "Dhlf6S1aAVCg"
      },
      "outputs": [],
      "source": [
        "sys.path.append(project_dir)\n",
        "from fc_classes import ROI, Network, FC"
      ]
    },
    {
      "cell_type": "code",
      "execution_count": null,
      "metadata": {
        "id": "C6ng9XbxtdHL"
      },
      "outputs": [],
      "source": [
        "fc_class_objects_folder = '/content/drive/MyDrive/Non-overlap Sleep States Classification/Processed FC Class Objects'"
      ]
    },
    {
      "cell_type": "code",
      "source": [
        "fc_graphs_images_folder = '/content/drive/MyDrive/Non-overlap Sleep States Classification/FC Graphs'"
      ],
      "metadata": {
        "id": "zNZTiEsuUJBw"
      },
      "execution_count": null,
      "outputs": []
    },
    {
      "cell_type": "markdown",
      "metadata": {
        "id": "ywIzWFBR5BbU"
      },
      "source": [
        "### Define Network cMap - each network matches a unique color code"
      ]
    },
    {
      "cell_type": "code",
      "execution_count": null,
      "metadata": {
        "id": "Nm9zMRtzLDQ_"
      },
      "outputs": [],
      "source": [
        "NET_CMAP = {}\n",
        "keys = list(roi_network_alignment['Network'].unique())\n",
        "for key in keys:\n",
        "  net_id = keys.index(key) + 1 #index starts at 0 and net_id starts at 1\n",
        "  NET_CMAP[key] = tuple(roi_network_alignment[roi_network_alignment['Network ID'] == net_id]['Color'].iloc[0])"
      ]
    },
    {
      "cell_type": "code",
      "execution_count": null,
      "metadata": {
        "colab": {
          "base_uri": "https://localhost:8080/"
        },
        "id": "ZzQ48lBnNjWB",
        "outputId": "8b98f705-6bf8-4bd3-a8b9-7a59a1d39a97"
      },
      "outputs": [
        {
          "output_type": "stream",
          "name": "stdout",
          "text": [
            "Default (1.0, 0.0, 0.0)\n",
            "Visual (0.2, 0.2, 1.0)\n",
            "Fronto Parietal (1.0, 1.0, 0.0)\n",
            "Dorsal Attention (0.2, 1.0, 0.2)\n",
            "Ventral Attention (0.0, 0.4, 0.4)\n",
            "Salience (0.1, 0.1, 0.1)\n",
            "Cingulo Opercular (0.6, 0.0, 0.6)\n",
            "Somatomotor Dorsal (0.0, 1.0, 1.0)\n",
            "Somatomotor Lateral (1.0, 0.4, 0.0)\n",
            "Auditory (1.0, 0.0, 1.0)\n",
            "Parietal Memory Network (0.0, 0.5, 1.0)\n",
            "Temporal (0.8, 0.8, 0.8)\n",
            "None (0.25, 0.25, 0.25)\n",
            "Hippo Amygdala (1.0, 0.0, 0.5)\n",
            "Basal Ganglia (0.7, 0.7, 0.7)\n",
            "Thalamus (0.7, 0.5, 0.0)\n",
            "Cerebellum (0.0, 0.6, 0.0)\n"
          ]
        }
      ],
      "source": [
        "#checkpoint\n",
        "for pair in NET_CMAP.items():\n",
        "  print(pair[0], pair[1])"
      ]
    }
  ],
  "metadata": {
    "colab": {
      "collapsed_sections": [
        "i0y8ijQlvBEe",
        "C-rdN3ebvOYz",
        "kPAMfP1vIX5r",
        "vUn6PY5EXL19",
        "3zzAksj_2GoD",
        "WG9V_lrz-4j1",
        "YsrEhHB14qS2",
        "Yfi40jiWs0dt"
      ],
      "machine_shape": "hm",
      "provenance": [],
      "authorship_tag": "ABX9TyOG5CJJFj9qlz6MJlP3Hmmn",
      "include_colab_link": true
    },
    "kernelspec": {
      "display_name": "Python 3",
      "name": "python3"
    },
    "language_info": {
      "name": "python"
    }
  },
  "nbformat": 4,
  "nbformat_minor": 0
}